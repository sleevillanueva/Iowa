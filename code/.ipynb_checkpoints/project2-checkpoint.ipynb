{
 "cells": [
  {
   "cell_type": "markdown",
   "metadata": {},
   "source": [
    "# Getting started\n",
    "\n",
    "Once you've chosen your scenario, download the data from [the Iowa website](https://data.iowa.gov/Economy/Iowa-Liquor-Sales/m3tr-qhgy) in csv format. Start by loading the data with pandas. You may need to parse the date columns appropriately."
   ]
  },
  {
   "cell_type": "code",
   "execution_count": 1,
   "metadata": {
    "collapsed": false
   },
   "outputs": [],
   "source": [
    "import pandas as pd\n",
    "import numpy as np"
   ]
  },
  {
   "cell_type": "code",
   "execution_count": 2,
   "metadata": {
    "collapsed": true
   },
   "outputs": [],
   "source": [
    "## Load the data into a pandas DataFrame\n",
    "df = pd.read_csv(\"../assets/Iowa_Liquor_sales_sample_10pct.csv\")\n",
    "## set date to datetime so we can extract year and month\n",
    "df[\"Date\"] = pd.to_datetime(df[\"Date\"], format=\"%m/%d/%Y\")"
   ]
  },
  {
   "cell_type": "code",
   "execution_count": 3,
   "metadata": {
    "collapsed": true
   },
   "outputs": [],
   "source": [
    "#No need for gallons since bottle volume is in mL\n",
    "df.drop(\"Volume Sold (Gallons)\", axis=1, inplace=True)"
   ]
  },
  {
   "cell_type": "code",
   "execution_count": 4,
   "metadata": {
    "collapsed": true
   },
   "outputs": [],
   "source": [
    "#rename the columns\n",
    "cols = [\"date\",\"store\",\"city\",\"zip\",\"county_num\",\"county\",\"cat\", \"cat_name\",\"vendor\",\"item_num\",\"item\",\n",
    "       \"bottle_vol\",\"bottle_cost\",\"bottle_cost_retail\", \"bottles_sold\", \"sales\",\"volume_sold\"]\n",
    "\n",
    "df.columns = cols"
   ]
  },
  {
   "cell_type": "code",
   "execution_count": 5,
   "metadata": {
    "collapsed": false
   },
   "outputs": [
    {
     "data": {
      "text/plain": [
       "date                     0\n",
       "store                    0\n",
       "city                     0\n",
       "zip                      0\n",
       "county_num            1077\n",
       "county                1077\n",
       "cat                     68\n",
       "cat_name               632\n",
       "vendor                   0\n",
       "item_num                 0\n",
       "item                     0\n",
       "bottle_vol               0\n",
       "bottle_cost              0\n",
       "bottle_cost_retail       0\n",
       "bottles_sold             0\n",
       "sales                    0\n",
       "volume_sold              0\n",
       "dtype: int64"
      ]
     },
     "execution_count": 5,
     "metadata": {},
     "output_type": "execute_result"
    }
   ],
   "source": [
    "df.isnull().sum()"
   ]
  },
  {
   "cell_type": "code",
   "execution_count": 6,
   "metadata": {
    "collapsed": false
   },
   "outputs": [
    {
     "data": {
      "text/plain": [
       "0.0039748297687807943"
      ]
     },
     "execution_count": 6,
     "metadata": {},
     "output_type": "execute_result"
    }
   ],
   "source": [
    "#let's see the percentage of our missing values\n",
    "(df[\"county_num\"].isnull().sum())/float(df.shape[0])"
   ]
  },
  {
   "cell_type": "code",
   "execution_count": 7,
   "metadata": {
    "collapsed": true
   },
   "outputs": [],
   "source": [
    "#since the highest features with missing values are only around 4% of our data, we can just drop the rows with\n",
    "#these missing values\n",
    "df.dropna(inplace=True)"
   ]
  },
  {
   "cell_type": "code",
   "execution_count": 8,
   "metadata": {
    "collapsed": true
   },
   "outputs": [],
   "source": [
    "#we remove $ for all the dollar columns\n",
    "df[\"bottle_cost\"] = [i[1:] for i in df[\"bottle_cost\"]]\n",
    "df[\"bottle_cost_retail\"] = [i[1:] for i in df[\"bottle_cost_retail\"]]\n",
    "df[\"sales\"] = [i[1:] for i in df[\"sales\"]]\n",
    "\n",
    "#convert object costs to numeric\n",
    "df[\"bottle_cost\"] = pd.to_numeric(df[\"bottle_cost\"])\n",
    "df[\"bottle_cost_retail\"] = pd.to_numeric(df[\"bottle_cost_retail\"])\n",
    "df[\"sales\"] = pd.to_numeric(df[\"sales\"])"
   ]
  },
  {
   "cell_type": "markdown",
   "metadata": {},
   "source": [
    "# Explore the data\n",
    "\n",
    "Perform some exploratory statistical analysis and make some plots, such as histograms of transaction totals, bottles sold, etc."
   ]
  },
  {
   "cell_type": "code",
   "execution_count": 9,
   "metadata": {
    "collapsed": true
   },
   "outputs": [],
   "source": [
    "import seaborn as sns\n",
    "import matplotlib.pyplot as plt\n",
    "import numpy as np\n",
    "%matplotlib inline"
   ]
  },
  {
   "cell_type": "code",
   "execution_count": 10,
   "metadata": {
    "collapsed": false
   },
   "outputs": [],
   "source": [
    "df['year'] = df['date'].dt.year\n",
    "df[\"month\"] = df[\"date\"].dt.month"
   ]
  },
  {
   "cell_type": "code",
   "execution_count": 11,
   "metadata": {
    "collapsed": false
   },
   "outputs": [
    {
     "data": {
      "image/png": "[encoded data removed]",
      "text/plain": [
       "<matplotlib.figure.Figure at 0x117df7110>"
      ]
     },
     "metadata": {},
     "output_type": "display_data"
    },
    {
     "data": {
      "image/png": "[encoded data removed]",
      "text/plain": [
       "<matplotlib.figure.Figure at 0x117d35e10>"
      ]
     },
     "metadata": {},
     "output_type": "display_data"
    }
   ],
   "source": [
    "##2015 data\n",
    "dff15 = df[df[\"year\"]==2015]\n",
    "months15 = np.sort(dff15[\"month\"].unique()).tolist()\n",
    "\n",
    "dff15 = dff15.groupby([\"month\"]).sales.sum().tolist()\n",
    "\n",
    "sns.plt.title('Total Sales per Month for 2015')\n",
    "sns.barplot(x=months15,y=dff15)\n",
    "plt.show()\n",
    "\n",
    "##2016 data\n",
    "dff16 = df[df[\"year\"]==2016]\n",
    "months16 = np.sort(dff16[\"month\"].unique()).tolist()\n",
    "\n",
    "dff16 = dff16.groupby([\"month\"]).sales.sum().tolist()\n",
    "\n",
    "sns.plt.title('Total Sales per Month for 2016')\n",
    "sns.barplot(x=months16,y=dff16)\n",
    "plt.show()"
   ]
  },
  {
   "cell_type": "code",
   "execution_count": 12,
   "metadata": {
    "collapsed": false
   },
   "outputs": [],
   "source": [
    "df15 = df[df[\"year\"]==2015]\n",
    "df16 = df[df[\"year\"]==2016]"
   ]
  },
  {
   "cell_type": "code",
   "execution_count": 13,
   "metadata": {
    "collapsed": false
   },
   "outputs": [],
   "source": [
    "dfs = df15.groupby([\"store\", \"month\"]).sales.sum()\n",
    "\n",
    "df1 = pd.DataFrame(dfs)\n",
    "df1 = df1.unstack(level=-1)\n",
    "\n",
    "#volume sold\n",
    "dfv1 = pd.DataFrame(df15.groupby(\"store\").volume_sold.sum())\n",
    "#total sales per store\n",
    "dft1 = pd.DataFrame(df15.groupby(\"store\").sales.sum())\n",
    "#total number of bottles sold\n",
    "dfb1 = pd.DataFrame(df15.groupby(\"store\").bottles_sold.mean())\n",
    "\n",
    "#concatenate\n",
    "agg_df = pd.concat([df1,dfv1,dft1,dfb1], axis=1)\n",
    "agg_df.fillna(value=0, inplace=True)"
   ]
  },
  {
   "cell_type": "code",
   "execution_count": 14,
   "metadata": {
    "collapsed": false
   },
   "outputs": [],
   "source": [
    "filcols = [\"jan\", \"feb\", \"mar\",\"apr\",\"may\",\"jun\",\"jul\",\"aug\",\"sep\",\"oct\",\"nov\",\"dec\", \"vol_sold\", \"total\", \"bottles_sold\"]\n",
    "\n",
    "agg_df.columns = filcols"
   ]
  },
  {
   "cell_type": "code",
   "execution_count": 15,
   "metadata": {
    "collapsed": false
   },
   "outputs": [],
   "source": [
    "agg_df[\"first\"] = agg_df.jan + agg_df.feb + agg_df.mar\n",
    "#agg_df[\"all_qtr\"] = agg_df.first + agg_df.sec + agg_df.third + agg_df.fourth"
   ]
  },
  {
   "cell_type": "markdown",
   "metadata": {},
   "source": [
    "## Record your findings\n",
    "\n",
    "Be sure to write out anything observations from your exploratory analysis."
   ]
  },
  {
   "cell_type": "markdown",
   "metadata": {},
   "source": [
    "# Mine the data\n",
    "Now you are ready to compute the variables you will use for your regression from the data. For example, you may want to\n",
    "compute total sales per store from Jan to March of 2015, mean price per bottle, etc. Refer to the readme for more ideas appropriate to your scenario.\n",
    "\n",
    "Pandas is your friend for this task. Take a look at the operations [here](http://pandas.pydata.org/pandas-docs/stable/groupby.html) for ideas on how to make the best use of pandas and feel free to search for blog and Stack Overflow posts to help you group data by certain variables and compute sums, means, etc. You may find it useful to create a new data frame to house this summary data."
   ]
  },
  {
   "cell_type": "markdown",
   "metadata": {},
   "source": [
    "# Refine the data\n",
    "Look for any statistical relationships, correlations, or other relevant properties of the dataset."
   ]
  },
  {
   "cell_type": "code",
   "execution_count": 16,
   "metadata": {
    "collapsed": false
   },
   "outputs": [
    {
     "data": {
      "text/plain": [
       "<matplotlib.axes._subplots.AxesSubplot at 0x116c7b090>"
      ]
     },
     "execution_count": 16,
     "metadata": {},
     "output_type": "execute_result"
    },
    {
     "data": {
      "image/png": "[encoded data removed]",
      "text/plain": [
       "<matplotlib.figure.Figure at 0x116c74c50>"
      ]
     },
     "metadata": {},
     "output_type": "display_data"
    }
   ],
   "source": [
    "sns.heatmap(agg_df.corr())"
   ]
  },
  {
   "cell_type": "code",
   "execution_count": 17,
   "metadata": {
    "collapsed": false
   },
   "outputs": [],
   "source": [
    "dfdummies = pd.get_dummies(df[\"county\"])\n",
    "countiesdf = pd.concat([df[\"store\"], dfdummies], axis=1)\n",
    "countiesdf.index = countiesdf[\"store\"]\n",
    "countiesdf.drop(\"store\",axis=1,inplace=True)\n",
    "#we might need this\n",
    "dummies = dfdummies.columns.tolist()"
   ]
  },
  {
   "cell_type": "code",
   "execution_count": 18,
   "metadata": {
    "collapsed": false
   },
   "outputs": [],
   "source": [
    "countiesdf.drop(\"Polk\", axis=1, inplace=True)"
   ]
  },
  {
   "cell_type": "code",
   "execution_count": 20,
   "metadata": {
    "collapsed": false
   },
   "outputs": [],
   "source": [
    "combined = pd.merge(countiesdf, agg_df, how='inner',left_index=True,right_index=True)\n",
    "combined.drop_duplicates(inplace=True)"
   ]
  },
  {
   "cell_type": "code",
   "execution_count": 22,
   "metadata": {
    "collapsed": false
   },
   "outputs": [],
   "source": [
    "dfsm = df16.groupby([\"store\", \"month\"]).sales.sum()\n",
    "\n",
    "df2 = pd.DataFrame(dfsm)\n",
    "df2 = df2.unstack(level=-1)\n",
    "\n",
    "#volume sold\n",
    "dfv2 = pd.DataFrame(df16.groupby(\"store\").volume_sold.mean())\n",
    "#total sales per store\n",
    "dft2 = pd.DataFrame(df16.groupby(\"store\").sales.sum())\n",
    "#total number of bottles sold\n",
    "dfb2 = pd.DataFrame(df16.groupby(\"store\").bottles_sold.mean())\n",
    "\n",
    "#concatenate\n",
    "agg_df2 = pd.concat([df2,dfv2,dft2,dfb2], axis=1)\n",
    "agg_df2.fillna(value=0, inplace=True)\n",
    "\n",
    "filcols2 = [\"jan\", \"feb\", \"mar\",\"vol_sold\", \"total\", \"bottles_sold\"]\n",
    "\n",
    "agg_df2.columns = filcols2\n",
    "\n",
    "agg_df2[\"first\"] = agg_df2.jan + agg_df2.feb + agg_df2.mar\n",
    "\n",
    "combined_2 = pd.merge(countiesdf, agg_df2, how='inner',left_index=True,right_index=True)\n",
    "combined_2.drop_duplicates(inplace=True)"
   ]
  },
  {
   "cell_type": "code",
   "execution_count": 24,
   "metadata": {
    "collapsed": false
   },
   "outputs": [],
   "source": [
    "#one df with our whole dataset with the same features\n",
    "dfs3 = df.groupby([\"store\", \"month\"]).sales.sum()\n",
    "df3 = pd.DataFrame(dfs3)\n",
    "df3 = df3.unstack(level=-1)\n",
    "#volume sold\n",
    "dfv3 = pd.DataFrame(df.groupby(\"store\").volume_sold.mean())\n",
    "#total sales per store\n",
    "dft3 = pd.DataFrame(df.groupby(\"store\").sales.sum())\n",
    "#total number of bottles sold\n",
    "dfb3 = pd.DataFrame(df.groupby(\"store\").bottles_sold.mean())\n",
    "\n",
    "#concatenate\n",
    "agg_df3 = pd.concat([df3,dfv3,dft3,dfb3], axis=1)\n",
    "agg_df3.fillna(value=0, inplace=True)\n",
    "\n",
    "agg_df3.columns = filcols\n",
    "agg_df3[\"first\"] = agg_df3.jan + agg_df3.feb + agg_df3.mar\n",
    "\n",
    "combined_3 = pd.merge(countiesdf, agg_df3, how='inner',left_index=True,right_index=True)\n",
    "combined_3.drop_duplicates(inplace=True)"
   ]
  },
  {
   "cell_type": "code",
   "execution_count": 26,
   "metadata": {
    "collapsed": false
   },
   "outputs": [],
   "source": [
    "months = [\"jan\", \"feb\", \"mar\",\"apr\",\"may\",\"jun\",\"jul\",\"aug\",\"sep\",\"oct\",\"nov\",\"dec\"]\n",
    "\n",
    "combined_2.drop(months[0:3],axis=1, inplace=True)\n",
    "combined.drop(months,axis=1, inplace=True)\n",
    "combined_3.drop(months,axis=1, inplace=True)"
   ]
  },
  {
   "cell_type": "markdown",
   "metadata": {},
   "source": [
    "# Build your models\n",
    "\n",
    "Using scikit-learn or statsmodels, build the necessary models for your scenario. Evaluate model fit."
   ]
  },
  {
   "cell_type": "code",
   "execution_count": 59,
   "metadata": {
    "collapsed": false
   },
   "outputs": [],
   "source": [
    "from sklearn import datasets, linear_model,preprocessing\n",
    "from sklearn.cross_validation import train_test_split\n",
    "from sklearn.metrics import classification_report, r2_score, mean_squared_error\n",
    "from itertools import combinations\n",
    "from sklearn.grid_search import GridSearchCV,RandomizedSearchCV\n",
    "import statsmodels.api as sm\n",
    "from statsmodels.regression.quantile_regression import QuantReg\n",
    "from scipy.stats import uniform as sp_rand\n",
    "from sklearn.linear_model import LassoCV"
   ]
  },
  {
   "cell_type": "code",
   "execution_count": 109,
   "metadata": {
    "collapsed": true
   },
   "outputs": [],
   "source": [
    "def runLinear():\n",
    "    scores = {}\n",
    "    global xs, ys, X_test, y_test\n",
    "    xs = preprocessing.scale(xs)\n",
    "    ys = preprocessing.scale(ys)\n",
    "    \n",
    "    X_test = preprocessing.scale(X_test)\n",
    "    y_test = preprocessing.scale(y_test)\n",
    "    \n",
    "    lr = linear_model.LinearRegression()\n",
    "    model = lr.fit(xs, ys)\n",
    "    predictions = model.predict(X_test)\n",
    "\n",
    "    lin = [np.sqrt(mean_squared_error(y_test, predictions)), r2_score(y_test, predictions)]\n",
    "    scores[\"linear\"] = lin\n",
    "\n",
    "    ridgeregcv = linear_model.RidgeCV(alphas=[0.1, 1, .001, .01, 10]) # Try different alphas\n",
    "    model = ridgeregcv.fit(xs, ys)\n",
    "    predictions = ridgeregcv.predict(X_test)\n",
    "    ridge = [np.sqrt(mean_squared_error(y_test, predictions)), r2_score(y_test, predictions)]\n",
    "    scores[\"ridge\"] = ridge\n",
    "    return scores"
   ]
  },
  {
   "cell_type": "code",
   "execution_count": 116,
   "metadata": {
    "collapsed": false
   },
   "outputs": [],
   "source": [
    "def runLassoCV(cols):\n",
    "    global xs, ys, X_test, y_test\n",
    "    xs = preprocessing.scale(xs)\n",
    "    ys = preprocessing.scale(ys)\n",
    "    \n",
    "    X_test = preprocessing.scale(X_test)\n",
    "    y_test = preprocessing.scale(y_test)\n",
    "    \n",
    "    lassoregcv = linear_model.LassoCV(alphas=[0.1, 1, .001, .01, 10])\n",
    "    lassoregcv.fit(xs, ys)\n",
    "    predictions = lassoregcv.predict(X_test)\n",
    "    print \"RMSE: %s\" %(np.sqrt(mean_squared_error(y_test, predictions))) \n",
    "    print \"R2 : %s\" %(r2_score(y_test, predictions))\n",
    "    \n",
    "    for a,b in zip(lassoregcv.coef_, cols):\n",
    "        if np.abs(a) != 0.0:\n",
    "            print a,b"
   ]
  },
  {
   "cell_type": "code",
   "execution_count": 111,
   "metadata": {
    "collapsed": false
   },
   "outputs": [],
   "source": [
    "all_columns = \"\" + \",\" .join(combined.columns.difference([\"total\"]) + \"\")\n",
    "all_columns = all_columns.split(\",\")"
   ]
  },
  {
   "cell_type": "code",
   "execution_count": 112,
   "metadata": {
    "collapsed": false
   },
   "outputs": [
    {
     "name": "stdout",
     "output_type": "stream",
     "text": [
      "{'ridge': [0.81671053652325598, 0.33298389953189544], 'linear': [0.82281776047916011, 0.32297093304005953]}\n"
     ]
    }
   ],
   "source": [
    "#for all columns\n",
    "xs = combined[all_columns]\n",
    "ys = combined[\"total\"]\n",
    "\n",
    "X_test = combined_2[all_columns]\n",
    "y_test = combined_2[\"total\"]\n",
    "\n",
    "#returns {model: [rmse, r2]}\n",
    "scores = runLinear()\n",
    "print scores"
   ]
  },
  {
   "cell_type": "code",
   "execution_count": 117,
   "metadata": {
    "collapsed": false
   },
   "outputs": [
    {
     "name": "stdout",
     "output_type": "stream",
     "text": [
      "RMSE: 0.821522950206\n",
      "R2 : 0.325100042284\n",
      "0.00358775115685 Johnson\n",
      "0.265180255178 first\n",
      "0.725225192693 vol_sold\n"
     ]
    }
   ],
   "source": [
    "runLassoCV(all_columns)"
   ]
  },
  {
   "cell_type": "code",
   "execution_count": 127,
   "metadata": {
    "collapsed": false
   },
   "outputs": [
    {
     "name": "stdout",
     "output_type": "stream",
     "text": [
      "{'ridge': [0.81726341169638494, 0.33208051590238519], 'linear': [0.82326405769992594, 0.32223629129945297]}\n"
     ]
    }
   ],
   "source": [
    "xs = combined[[\"first\",\"vol_sold\"]]\n",
    "ys = combined[\"total\"]\n",
    "\n",
    "X_test = combined_2[[\"first\",\"vol_sold\"]]\n",
    "y_test = combined_2[\"total\"]\n",
    "\n",
    "#returns {model: [rmse, r2]}\n",
    "scores = runLinear()\n",
    "print scores"
   ]
  },
  {
   "cell_type": "code",
   "execution_count": 128,
   "metadata": {
    "collapsed": false
   },
   "outputs": [
    {
     "name": "stdout",
     "output_type": "stream",
     "text": [
      "RMSE: 0.822090626384\n",
      "R2 : 0.324167002012\n",
      "0.264888087976 first\n",
      "0.725631357469 vol_sold\n"
     ]
    }
   ],
   "source": [
    "runLassoCV([\"first\",\"vol_sold\"])"
   ]
  },
  {
   "cell_type": "code",
   "execution_count": 122,
   "metadata": {
    "collapsed": true
   },
   "outputs": [],
   "source": [
    "notsold_cols =\"\" + \",\" .join(combined.columns.difference([\"total\",\"bottles_sold\",\"vol_sold\"]) + \"\")\n",
    "notsold_cols = notsold_cols.split(\",\")"
   ]
  },
  {
   "cell_type": "code",
   "execution_count": 123,
   "metadata": {
    "collapsed": false
   },
   "outputs": [
    {
     "name": "stdout",
     "output_type": "stream",
     "text": [
      "{'ridge': [0.047554222394594982, 0.9977385959324454], 'linear': [0.047553932702080109, 0.99773862348456599]}\n"
     ]
    }
   ],
   "source": [
    "#without bottles sold and bottles volume\n",
    "xs = combined[notsold_cols]\n",
    "ys = combined[\"total\"]\n",
    "\n",
    "X_test = combined_2[notsold_cols]\n",
    "y_test = combined_2[\"total\"]\n",
    "\n",
    "scores = runLinear()\n",
    "print scores"
   ]
  },
  {
   "cell_type": "code",
   "execution_count": 124,
   "metadata": {
    "collapsed": false
   },
   "outputs": [
    {
     "name": "stdout",
     "output_type": "stream",
     "text": [
      "RMSE: 0.0422592715832\n",
      "R2 : 0.998214153965\n",
      "-0.00098848986359 Adair\n",
      "0.000523843047853 Allamakee\n",
      "-0.00249588271407 Audubon\n",
      "-0.000599927896122 Benton\n",
      "-0.00397191398784 Boone\n",
      "-0.0032460935751 Bremer\n",
      "-0.00269076215588 Buena Vista\n",
      "0.00530564699008 Cerro Gordo\n",
      "-0.00278264676651 Chickasaw\n",
      "0.00110709579752 Clarke\n",
      "-0.00179672835599 Clayton\n",
      "-0.00010782064806 Clinton\n",
      "0.00272113934798 Crawford\n",
      "0.0010494008011 Dallas\n",
      "-0.00583251784686 Des Moines\n",
      "0.00683706085132 Dickinson\n",
      "0.00124005860244 Fayette\n",
      "0.000273555229865 Floyd\n",
      "-0.00124591511043 Franklin\n",
      "-0.000765671737311 Greene\n",
      "-0.00101283682855 Grundy\n",
      "-0.00143263594417 Hamilton\n",
      "-0.000770490774743 Hancock\n",
      "-0.00270539462494 Harrison\n",
      "-0.00993535362023 Henry\n",
      "-0.0165143737347 Howard\n",
      "-0.000222287331624 Humboldt\n",
      "0.00499185333268 Ida\n",
      "-0.00351744551954 Iowa\n",
      "-0.00119846020227 Jackson\n",
      "-0.000499896330954 Jasper\n",
      "-0.0047208425034 Jefferson\n",
      "0.0154266392382 Johnson\n",
      "0.00149179363653 Kossuth\n",
      "-0.00227812936189 Linn\n",
      "-0.000633934111564 Louisa\n",
      "-0.000492468688606 Lucas\n",
      "-0.00264542139625 Lyon\n",
      "-0.013858122683 Madison\n",
      "-0.00507994496359 Mahaska\n",
      "0.00113472399273 Marion\n",
      "-0.00281603738816 Marshall\n",
      "-0.00157140713381 Mills\n",
      "-0.00235211813824 Mitchell\n",
      "-0.00152941998259 Monona\n",
      "-0.000697598787045 Monroe\n",
      "-0.00213855633361 Montgomery\n",
      "-0.000248212104229 Muscatine\n",
      "0.00157267923319 O'Brien\n",
      "-0.00269957399678 Osceola\n",
      "-0.00341864791378 Page\n",
      "-0.00277399327647 Palo Alto\n",
      "-0.00667484043573 Pocahontas\n",
      "-0.00464821897604 Pottawattamie\n",
      "-0.00121343113275 Poweshiek\n",
      "0.00618227335639 Scott\n",
      "0.000895870219306 Shelby\n",
      "0.00211960804395 Sioux\n",
      "-0.00387423825492 Story\n",
      "-0.000973944115561 Taylor\n",
      "-0.000345046439367 Union\n",
      "-0.00114094256732 Van Buren\n",
      "0.00116630427477 Wapello\n",
      "-0.00619046750474 Warren\n",
      "0.00095482006406 Washington\n",
      "-0.00467650577516 Woodbury\n",
      "-0.000360404834792 Worth\n",
      "0.976409371713 first\n"
     ]
    }
   ],
   "source": [
    "runLassoCV(notsold_cols)"
   ]
  },
  {
   "cell_type": "code",
   "execution_count": 142,
   "metadata": {
    "collapsed": true
   },
   "outputs": [],
   "source": [
    "notfirst_cols =\"\" + \",\" .join(combined.columns.difference([\"total\",\"bottles_sold\",\"first\"]) + \"\")\n",
    "notfirst_cols = notfirst_cols.split(\",\")"
   ]
  },
  {
   "cell_type": "code",
   "execution_count": 145,
   "metadata": {
    "collapsed": false
   },
   "outputs": [
    {
     "name": "stdout",
     "output_type": "stream",
     "text": [
      "{'ridge': [1.1188364171173664, -0.25179492826802519], 'linear': [1.1188368370915951, -0.25179586803312448]}\n"
     ]
    }
   ],
   "source": [
    "xs = combined[notfirst_cols]\n",
    "ys = combined[\"total\"]\n",
    "\n",
    "X_test = combined_2[notfirst_cols]\n",
    "y_test = combined_2[\"total\"]\n",
    "\n",
    "scores = runLinear()\n",
    "print scores"
   ]
  },
  {
   "cell_type": "code",
   "execution_count": 126,
   "metadata": {
    "collapsed": false
   },
   "outputs": [
    {
     "name": "stdout",
     "output_type": "stream",
     "text": [
      "{'ridge': [0.02197941884458033, 0.99951690514725455], 'linear': [0.021978711372648032, 0.99951693624639781]}\n"
     ]
    }
   ],
   "source": [
    "xs = combined[[\"first\"]]\n",
    "ys = combined[\"total\"]\n",
    "\n",
    "X_test = combined_2[[\"first\"]]\n",
    "y_test = combined_2[\"total\"]\n",
    "\n",
    "scores = runLinear()\n",
    "print scores"
   ]
  },
  {
   "cell_type": "code",
   "execution_count": 132,
   "metadata": {
    "collapsed": false,
    "scrolled": true
   },
   "outputs": [
    {
     "name": "stdout",
     "output_type": "stream",
     "text": [
      "r2: 0.984899764184\n",
      "rmse : 0.135173260353\n"
     ]
    }
   ],
   "source": [
    "#now that we found the \"right\" features, let's try gridsearch to see what parameters to use for our whole dataset\n",
    "X = combined_3[[\"first\"]]\n",
    "y = combined_3[\"total\"]\n",
    "\n",
    "X = preprocessing.scale(X)\n",
    "y = preprocessing.scale(y)\n",
    "\n",
    "X_train, X_test, y_train, y_test = train_test_split(X, y, random_state=1)\n",
    "\n",
    "lr = linear_model.LinearRegression()\n",
    "\n",
    "parameters = {'fit_intercept':[True,False], 'normalize':[True,False], 'copy_X':[True, False]}\n",
    "grid = GridSearchCV(lr,parameters)\n",
    "gridmod = grid.fit(X_train, y_train)\n",
    "predictions = grid.predict(X_test)\n",
    "\n",
    "print \"r2: %s\" %grid.best_score_\n",
    "print \"rmse : %s\" % np.sqrt(mean_squared_error(y_test, predictions))\n"
   ]
  },
  {
   "cell_type": "markdown",
   "metadata": {},
   "source": [
    "## Plot your results\n",
    "\n",
    "Again make sure that you record any valuable information. For example, in the tax scenario, did you find the sales from the first three months of the year to be a good predictor of the total sales for the year? Plot the predictions versus the true values and discuss the successes and limitations of your models"
   ]
  },
  {
   "cell_type": "code",
   "execution_count": 147,
   "metadata": {
    "collapsed": false
   },
   "outputs": [],
   "source": [
    "X = combined_3[[\"first\"]]\n",
    "y = combined_3[\"total\"]\n",
    "\n",
    "X_train, X_test, y_train, y_test = train_test_split(X, y, random_state=1)\n",
    "\n",
    "lr = linear_model.LinearRegression()\n",
    "\n",
    "parameters = {'fit_intercept':[True,False], 'normalize':[True,False], 'copy_X':[True, False]}\n",
    "grid = GridSearchCV(lr,parameters)\n",
    "gridmod = grid.fit(X_train, y_train)\n",
    "predictions = grid.predict(X_test)"
   ]
  },
  {
   "cell_type": "code",
   "execution_count": 148,
   "metadata": {
    "collapsed": false
   },
   "outputs": [
    {
     "data": {
      "text/plain": [
       "<matplotlib.text.Text at 0x13ee97d10>"
      ]
     },
     "execution_count": 148,
     "metadata": {},
     "output_type": "execute_result"
    },
    {
     "data": {
      "image/png": "[encoded data removed]",
      "text/plain": [
       "<matplotlib.figure.Figure at 0x117a32590>"
      ]
     },
     "metadata": {},
     "output_type": "display_data"
    }
   ],
   "source": [
    "plt.scatter(y_test, predictions)\n",
    "plt.ylabel(\"actual total\")\n",
    "plt.xlabel(\"predicted total\")"
   ]
  },
  {
   "cell_type": "code",
   "execution_count": 155,
   "metadata": {
    "collapsed": false
   },
   "outputs": [
    {
     "data": {
      "text/plain": [
       "<matplotlib.text.Text at 0x140db9550>"
      ]
     },
     "execution_count": 155,
     "metadata": {},
     "output_type": "execute_result"
    },
    {
     "data": {
      "image/png": "[encoded data removed]",
      "text/plain": [
       "<matplotlib.figure.Figure at 0x140f75650>"
      ]
     },
     "metadata": {},
     "output_type": "display_data"
    }
   ],
   "source": [
    "plt.scatter(X_test, y_test,  color='blue')\n",
    "plt.plot(X_test, grid.predict(X_test), color='black',linewidth=2)\n",
    "plt.title(\"Ordinary Least Squares Regression\")\n",
    "plt.ylabel(\"actual total\")\n",
    "plt.xlabel(\"predicted total\")"
   ]
  },
  {
   "cell_type": "markdown",
   "metadata": {},
   "source": [
    "# Present the Results\n",
    "\n",
    "Present your conclusions and results. If you have more than one interesting model feel free to include more than one along with a discussion. Use your work in this notebook to prepare your write-up."
   ]
  },
  {
   "cell_type": "markdown",
   "metadata": {
    "collapsed": true
   },
   "source": []
  },
  {
   "cell_type": "code",
   "execution_count": 137,
   "metadata": {
    "collapsed": false
   },
   "outputs": [
    {
     "name": "stdout",
     "output_type": "stream",
     "text": [
      "r2: 0.984913674257\n",
      "rmse : 8345.35221157\n"
     ]
    }
   ],
   "source": [
    "#####The model best overall####\n",
    "X = combined_3[[\"first\"]]\n",
    "y = combined_3[\"total\"]\n",
    "\n",
    "X_train, X_test, y_train, y_test = train_test_split(X, y, random_state=1)\n",
    "\n",
    "lr = linear_model.LinearRegression()\n",
    "\n",
    "parameters = {'fit_intercept':[True,False], 'normalize':[True,False], 'copy_X':[True, False]}\n",
    "grid = GridSearchCV(lr,parameters)\n",
    "gridmod = grid.fit(X_train, y_train)\n",
    "predictions = grid.predict(X_test)\n",
    "\n",
    "print \"r2: %s\" %grid.best_score_\n",
    "print \"rmse : %s\" % np.sqrt(mean_squared_error(y_test, predictions))"
   ]
  },
  {
   "cell_type": "code",
   "execution_count": null,
   "metadata": {
    "collapsed": true
   },
   "outputs": [],
   "source": []
  }
 ],
 "metadata": {
  "anaconda-cloud": {},
  "kernelspec": {
   "display_name": "Python 2",
   "language": "python",
   "name": "python2"
  },
  "language_info": {
   "codemirror_mode": {
    "name": "ipython",
    "version": 2
   },
   "file_extension": ".py",
   "mimetype": "text/x-python",
   "name": "python",
   "nbconvert_exporter": "python",
   "pygments_lexer": "ipython2",
   "version": "2.7.12"
  }
 },
 "nbformat": 4,
 "nbformat_minor": 0
}
