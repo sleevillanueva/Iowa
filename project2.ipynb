{
 "cells": [
  {
   "cell_type": "markdown",
   "metadata": {},
   "source": [
    "# Getting started\n",
    "\n",
    "Once you've chosen your scenario, download the data from [the Iowa website](https://data.iowa.gov/Economy/Iowa-Liquor-Sales/m3tr-qhgy) in csv format. Start by loading the data with pandas. You may need to parse the date columns appropriately."
   ]
  },
  {
   "cell_type": "code",
   "execution_count": 1,
   "metadata": {
    "collapsed": false
   },
   "outputs": [],
   "source": [
    "import pandas as pd\n",
    "import numpy as np"
   ]
  },
  {
   "cell_type": "code",
   "execution_count": null,
   "metadata": {
    "collapsed": true
   },
   "outputs": [],
   "source": [
    "## Load the data into a DataFrame\n",
    "df = pd.read_csv(\"/users/Sheena/Documents/Iowa_Liquor_sales_sample_10pct.csv\", low_memory=False)\n",
    "## set date to datetime so we can extract year and month\n",
    "df[\"Date\"] = pd.to_datetime(df[\"Date\"], format=\"%m/%d/%Y\")"
   ]
  },
  {
   "cell_type": "code",
   "execution_count": 3,
   "metadata": {
    "collapsed": true
   },
   "outputs": [],
   "source": [
    "#No need for gallons since bottle volume is in mL\n",
    "df.drop(\"Volume Sold (Gallons)\", axis=1, inplace=True)"
   ]
  },
  {
   "cell_type": "code",
   "execution_count": 4,
   "metadata": {
    "collapsed": true
   },
   "outputs": [],
   "source": [
    "#rename the columns\n",
    "cols = [\"date\",\"store\",\"city\",\"zip\",\"county_num\",\"county\",\"cat\", \"cat_name\",\"vendor\",\"item_num\",\"item\",\n",
    "       \"bottle_vol\",\"bottle_cost\",\"bottle_cost_retail\", \"bottles_sold\", \"sales\",\"volume_sold\"]\n",
    "\n",
    "df.columns = cols"
   ]
  },
  {
   "cell_type": "code",
   "execution_count": 6,
   "metadata": {
    "collapsed": true
   },
   "outputs": [],
   "source": [
    "df.dropna(inplace=True)"
   ]
  },
  {
   "cell_type": "code",
   "execution_count": 7,
   "metadata": {
    "collapsed": true
   },
   "outputs": [],
   "source": [
    "#we remove $ for all the dollar columns\n",
    "df[\"bottle_cost\"] = [i[1:] for i in df[\"bottle_cost\"]]\n",
    "df[\"bottle_cost_retail\"] = [i[1:] for i in df[\"bottle_cost_retail\"]]\n",
    "df[\"sales\"] = [i[1:] for i in df[\"sales\"]]\n",
    "\n",
    "#convert object costs to numeric\n",
    "df[\"bottle_cost\"] = pd.to_numeric(df[\"bottle_cost\"])\n",
    "df[\"bottle_cost_retail\"] = pd.to_numeric(df[\"bottle_cost_retail\"])\n",
    "df[\"sales\"] = pd.to_numeric(df[\"sales\"])"
   ]
  },
  {
   "cell_type": "markdown",
   "metadata": {},
   "source": [
    "# Explore the data\n",
    "\n",
    "Perform some exploratory statistical analysis and make some plots, such as histograms of transaction totals, bottles sold, etc."
   ]
  },
  {
   "cell_type": "code",
   "execution_count": 8,
   "metadata": {
    "collapsed": true
   },
   "outputs": [],
   "source": [
    "import seaborn as sns\n",
    "import matplotlib.pyplot as plt\n",
    "import numpy as np\n",
    "%matplotlib inline"
   ]
  },
  {
   "cell_type": "code",
   "execution_count": 9,
   "metadata": {
    "collapsed": false
   },
   "outputs": [],
   "source": [
    "df['year'] = df['date'].dt.year\n",
    "df[\"month\"] = df[\"date\"].dt.month"
   ]
  },
  {
   "cell_type": "code",
   "execution_count": 10,
   "metadata": {
    "collapsed": false
   },
   "outputs": [
    {
     "data": {
      "image/png": "[encoded data removed]",
      "text/plain": [
       "<matplotlib.figure.Figure at 0x119e9c8d0>"
      ]
     },
     "metadata": {},
     "output_type": "display_data"
    },
    {
     "data": {
      "image/png": "[encoded data removed]",
      "text/plain": [
       "<matplotlib.figure.Figure at 0x122b1f810>"
      ]
     },
     "metadata": {},
     "output_type": "display_data"
    }
   ],
   "source": [
    "##2015 data\n",
    "dff15 = df[df[\"year\"]==2015]\n",
    "months15 = np.sort(dff15[\"month\"].unique()).tolist()\n",
    "\n",
    "dff15 = dff15.groupby([\"month\"]).sales.sum().tolist()\n",
    "\n",
    "sns.plt.title('Total Sales per Month for 2015')\n",
    "sns.barplot(x=months15,y=dff15)\n",
    "plt.show()\n",
    "\n",
    "##2016 data\n",
    "dff16 = df[df[\"year\"]==2016]\n",
    "months16 = np.sort(dff16[\"month\"].unique()).tolist()\n",
    "\n",
    "dff16 = dff16.groupby([\"month\"]).sales.sum().tolist()\n",
    "\n",
    "sns.plt.title('Total Sales per Month for 2016')\n",
    "sns.barplot(x=months16,y=dff16)\n",
    "plt.show()"
   ]
  },
  {
   "cell_type": "code",
   "execution_count": 11,
   "metadata": {
    "collapsed": false
   },
   "outputs": [],
   "source": [
    "df15 = df[df[\"year\"]==2015]\n",
    "df16 = df[df[\"year\"]==2016]"
   ]
  },
  {
   "cell_type": "code",
   "execution_count": 123,
   "metadata": {
    "collapsed": false
   },
   "outputs": [],
   "source": [
    "dfs = df15.groupby([\"store\", \"month\"]).sales.sum()\n",
    "\n",
    "df1 = pd.DataFrame(dfs)\n",
    "df1 = df1.unstack(level=-1)\n",
    "#volume sold\n",
    "dfv1 = pd.DataFrame(df15.groupby(\"store\").volume_sold.sum())\n",
    "#total sales per store\n",
    "dft1 = pd.DataFrame(df15.groupby(\"store\").sales.sum())\n",
    "#total number of bottles sold\n",
    "dfb1 = pd.DataFrame(df15.groupby(\"store\").bottles_sold.mean())\n",
    "\n",
    "#concatenate\n",
    "agg_df = pd.concat([df1,dfv1,dft1,dfb1], axis=1)\n",
    "agg_df.fillna(value=0, inplace=True)"
   ]
  },
  {
   "cell_type": "code",
   "execution_count": 125,
   "metadata": {
    "collapsed": false
   },
   "outputs": [],
   "source": [
    "filcols = [\"jan\", \"feb\", \"mar\",\"apr\",\"may\",\"jun\",\"jul\",\"aug\",\"sep\",\"oct\",\"nov\",\"dec\", \"vol_sold\", \"total\", \"bottles_sold\"]\n",
    "\n",
    "agg_df.columns = filcols"
   ]
  },
  {
   "cell_type": "code",
   "execution_count": 126,
   "metadata": {
    "collapsed": true
   },
   "outputs": [],
   "source": [
    "agg_df[\"store\"] = agg_df.index"
   ]
  },
  {
   "cell_type": "code",
   "execution_count": 193,
   "metadata": {
    "collapsed": false
   },
   "outputs": [
    {
     "name": "stdout",
     "output_type": "stream",
     "text": [
      "<class 'pandas.core.series.Series'>\n"
     ]
    }
   ],
   "source": [
    "agg_df[\"first\"] = agg_df.jan + agg_df.feb + agg_df.mar\n",
    "agg_df[\"sec\"] = agg_df.apr + agg_df.may + agg_df.jun\n",
    "agg_df[\"third\"] = agg_df.jul + agg_df.aug + agg_df.sep\n",
    "agg_df[\"fourth\"] = agg_df[\"oct\"] + agg_df.nov + agg_df.dec\n",
    "\n",
    "print type(agg_df[\"first\"])\n",
    "#agg_df[\"all_qtr\"] = agg_df.first + agg_df.sec + agg_df.third + agg_df.fourth"
   ]
  },
  {
   "cell_type": "markdown",
   "metadata": {},
   "source": [
    "## Record your findings\n",
    "\n",
    "Be sure to write out anything observations from your exploratory analysis."
   ]
  },
  {
   "cell_type": "markdown",
   "metadata": {},
   "source": [
    "# Mine the data\n",
    "Now you are ready to compute the variables you will use for your regression from the data. For example, you may want to\n",
    "compute total sales per store from Jan to March of 2015, mean price per bottle, etc. Refer to the readme for more ideas appropriate to your scenario.\n",
    "\n",
    "Pandas is your friend for this task. Take a look at the operations [here](http://pandas.pydata.org/pandas-docs/stable/groupby.html) for ideas on how to make the best use of pandas and feel free to search for blog and Stack Overflow posts to help you group data by certain variables and compute sums, means, etc. You may find it useful to create a new data frame to house this summary data."
   ]
  },
  {
   "cell_type": "markdown",
   "metadata": {},
   "source": [
    "# Refine the data\n",
    "Look for any statistical relationships, correlations, or other relevant properties of the dataset."
   ]
  },
  {
   "cell_type": "code",
   "execution_count": 182,
   "metadata": {
    "collapsed": false
   },
   "outputs": [
    {
     "data": {
      "text/plain": [
       "<matplotlib.axes._subplots.AxesSubplot at 0x13e73b0d0>"
      ]
     },
     "execution_count": 182,
     "metadata": {},
     "output_type": "execute_result"
    },
    {
     "data": {
      "image/png": "[encoded data removed]",
      "text/plain": [
       "<matplotlib.figure.Figure at 0x13e732b10>"
      ]
     },
     "metadata": {},
     "output_type": "display_data"
    }
   ],
   "source": [
    "sns.heatmap(agg_df.corr())"
   ]
  },
  {
   "cell_type": "code",
   "execution_count": 129,
   "metadata": {
    "collapsed": false
   },
   "outputs": [
    {
     "data": {
      "text/html": [
       "<div>\n",
       "<table border=\"1\" class=\"dataframe\">\n",
       "  <thead>\n",
       "    <tr style=\"text-align: right;\">\n",
       "      <th></th>\n",
       "      <th>store</th>\n",
       "      <th>Adair</th>\n",
       "      <th>Adams</th>\n",
       "      <th>Allamakee</th>\n",
       "      <th>Appanoose</th>\n",
       "      <th>Audubon</th>\n",
       "      <th>Benton</th>\n",
       "      <th>Black Hawk</th>\n",
       "      <th>Boone</th>\n",
       "      <th>Bremer</th>\n",
       "      <th>...</th>\n",
       "      <th>Wapello</th>\n",
       "      <th>Warren</th>\n",
       "      <th>Washington</th>\n",
       "      <th>Wayne</th>\n",
       "      <th>Webster</th>\n",
       "      <th>Winnebago</th>\n",
       "      <th>Winneshiek</th>\n",
       "      <th>Woodbury</th>\n",
       "      <th>Worth</th>\n",
       "      <th>Wright</th>\n",
       "    </tr>\n",
       "  </thead>\n",
       "  <tbody>\n",
       "    <tr>\n",
       "      <th>0</th>\n",
       "      <td>3717</td>\n",
       "      <td>0.0</td>\n",
       "      <td>0.0</td>\n",
       "      <td>0.0</td>\n",
       "      <td>0.0</td>\n",
       "      <td>0.0</td>\n",
       "      <td>0.0</td>\n",
       "      <td>0.0</td>\n",
       "      <td>0.0</td>\n",
       "      <td>1.0</td>\n",
       "      <td>...</td>\n",
       "      <td>0.0</td>\n",
       "      <td>0.0</td>\n",
       "      <td>0.0</td>\n",
       "      <td>0.0</td>\n",
       "      <td>0.0</td>\n",
       "      <td>0.0</td>\n",
       "      <td>0.0</td>\n",
       "      <td>0.0</td>\n",
       "      <td>0.0</td>\n",
       "      <td>0.0</td>\n",
       "    </tr>\n",
       "    <tr>\n",
       "      <th>1</th>\n",
       "      <td>2614</td>\n",
       "      <td>0.0</td>\n",
       "      <td>0.0</td>\n",
       "      <td>0.0</td>\n",
       "      <td>0.0</td>\n",
       "      <td>0.0</td>\n",
       "      <td>0.0</td>\n",
       "      <td>0.0</td>\n",
       "      <td>0.0</td>\n",
       "      <td>0.0</td>\n",
       "      <td>...</td>\n",
       "      <td>0.0</td>\n",
       "      <td>0.0</td>\n",
       "      <td>0.0</td>\n",
       "      <td>0.0</td>\n",
       "      <td>0.0</td>\n",
       "      <td>0.0</td>\n",
       "      <td>0.0</td>\n",
       "      <td>0.0</td>\n",
       "      <td>0.0</td>\n",
       "      <td>0.0</td>\n",
       "    </tr>\n",
       "    <tr>\n",
       "      <th>2</th>\n",
       "      <td>2106</td>\n",
       "      <td>0.0</td>\n",
       "      <td>0.0</td>\n",
       "      <td>0.0</td>\n",
       "      <td>0.0</td>\n",
       "      <td>0.0</td>\n",
       "      <td>0.0</td>\n",
       "      <td>1.0</td>\n",
       "      <td>0.0</td>\n",
       "      <td>0.0</td>\n",
       "      <td>...</td>\n",
       "      <td>0.0</td>\n",
       "      <td>0.0</td>\n",
       "      <td>0.0</td>\n",
       "      <td>0.0</td>\n",
       "      <td>0.0</td>\n",
       "      <td>0.0</td>\n",
       "      <td>0.0</td>\n",
       "      <td>0.0</td>\n",
       "      <td>0.0</td>\n",
       "      <td>0.0</td>\n",
       "    </tr>\n",
       "    <tr>\n",
       "      <th>3</th>\n",
       "      <td>2501</td>\n",
       "      <td>0.0</td>\n",
       "      <td>0.0</td>\n",
       "      <td>0.0</td>\n",
       "      <td>0.0</td>\n",
       "      <td>0.0</td>\n",
       "      <td>0.0</td>\n",
       "      <td>0.0</td>\n",
       "      <td>0.0</td>\n",
       "      <td>0.0</td>\n",
       "      <td>...</td>\n",
       "      <td>0.0</td>\n",
       "      <td>0.0</td>\n",
       "      <td>0.0</td>\n",
       "      <td>0.0</td>\n",
       "      <td>0.0</td>\n",
       "      <td>0.0</td>\n",
       "      <td>0.0</td>\n",
       "      <td>0.0</td>\n",
       "      <td>0.0</td>\n",
       "      <td>0.0</td>\n",
       "    </tr>\n",
       "    <tr>\n",
       "      <th>4</th>\n",
       "      <td>3654</td>\n",
       "      <td>0.0</td>\n",
       "      <td>0.0</td>\n",
       "      <td>0.0</td>\n",
       "      <td>0.0</td>\n",
       "      <td>0.0</td>\n",
       "      <td>0.0</td>\n",
       "      <td>0.0</td>\n",
       "      <td>0.0</td>\n",
       "      <td>0.0</td>\n",
       "      <td>...</td>\n",
       "      <td>0.0</td>\n",
       "      <td>0.0</td>\n",
       "      <td>0.0</td>\n",
       "      <td>0.0</td>\n",
       "      <td>0.0</td>\n",
       "      <td>0.0</td>\n",
       "      <td>0.0</td>\n",
       "      <td>0.0</td>\n",
       "      <td>0.0</td>\n",
       "      <td>1.0</td>\n",
       "    </tr>\n",
       "  </tbody>\n",
       "</table>\n",
       "<p>5 rows × 100 columns</p>\n",
       "</div>"
      ],
      "text/plain": [
       "   store  Adair  Adams  Allamakee  Appanoose  Audubon  Benton  Black Hawk  \\\n",
       "0   3717    0.0    0.0        0.0        0.0      0.0     0.0         0.0   \n",
       "1   2614    0.0    0.0        0.0        0.0      0.0     0.0         0.0   \n",
       "2   2106    0.0    0.0        0.0        0.0      0.0     0.0         1.0   \n",
       "3   2501    0.0    0.0        0.0        0.0      0.0     0.0         0.0   \n",
       "4   3654    0.0    0.0        0.0        0.0      0.0     0.0         0.0   \n",
       "\n",
       "   Boone  Bremer   ...    Wapello  Warren  Washington  Wayne  Webster  \\\n",
       "0    0.0     1.0   ...        0.0     0.0         0.0    0.0      0.0   \n",
       "1    0.0     0.0   ...        0.0     0.0         0.0    0.0      0.0   \n",
       "2    0.0     0.0   ...        0.0     0.0         0.0    0.0      0.0   \n",
       "3    0.0     0.0   ...        0.0     0.0         0.0    0.0      0.0   \n",
       "4    0.0     0.0   ...        0.0     0.0         0.0    0.0      0.0   \n",
       "\n",
       "   Winnebago  Winneshiek  Woodbury  Worth  Wright  \n",
       "0        0.0         0.0       0.0    0.0     0.0  \n",
       "1        0.0         0.0       0.0    0.0     0.0  \n",
       "2        0.0         0.0       0.0    0.0     0.0  \n",
       "3        0.0         0.0       0.0    0.0     0.0  \n",
       "4        0.0         0.0       0.0    0.0     1.0  \n",
       "\n",
       "[5 rows x 100 columns]"
      ]
     },
     "execution_count": 129,
     "metadata": {},
     "output_type": "execute_result"
    }
   ],
   "source": [
    "dfdummies = pd.get_dummies(df[\"county\"])\n",
    "storesdf = pd.concat([df[\"store\"], dfdummies], axis=1)\n",
    "\n",
    "#we might need this\n",
    "dummies = dfdummies.columns.tolist()"
   ]
  },
  {
   "cell_type": "code",
   "execution_count": 130,
   "metadata": {
    "collapsed": false
   },
   "outputs": [],
   "source": [
    "storesdf.drop(\"Polk\", axis=1, inplace=True)"
   ]
  },
  {
   "cell_type": "code",
   "execution_count": 131,
   "metadata": {
    "collapsed": false
   },
   "outputs": [
    {
     "data": {
      "text/plain": [
       "(1372, 115)"
      ]
     },
     "execution_count": 131,
     "metadata": {},
     "output_type": "execute_result"
    }
   ],
   "source": [
    "combined = pd.merge(storesdf, agg_df, how='inner', on=[\"store\"])\n",
    "combined.drop_duplicates(inplace=True)"
   ]
  },
  {
   "cell_type": "code",
   "execution_count": 132,
   "metadata": {
    "collapsed": false
   },
   "outputs": [
    {
     "data": {
      "text/plain": [
       "(1280, 106)"
      ]
     },
     "execution_count": 132,
     "metadata": {},
     "output_type": "execute_result"
    }
   ],
   "source": [
    "dfsm = df16.groupby([\"store\", \"month\"]).sales.sum()\n",
    "\n",
    "df2 = pd.DataFrame(dfsm)\n",
    "df2 = df2.unstack(level=-1)\n",
    "\n",
    "#volume sold\n",
    "dfv2 = pd.DataFrame(df16.groupby(\"store\").volume_sold.mean())\n",
    "#total sales per store\n",
    "dft2 = pd.DataFrame(df16.groupby(\"store\").sales.sum())\n",
    "#total number of bottles sold\n",
    "dfb2 = pd.DataFrame(df16.groupby(\"store\").bottles_sold.mean())\n",
    "\n",
    "#concatenate\n",
    "agg_df2 = pd.concat([df2,dfv2,dft2,dfb2], axis=1)\n",
    "agg_df2.fillna(value=0, inplace=True)\n",
    "\n",
    "filcols2 = [\"jan\", \"feb\", \"mar\",\"vol_sold\", \"total\", \"bottles_sold\"]\n",
    "\n",
    "agg_df2.columns = filcols2\n",
    "\n",
    "agg_df2[\"store\"] = agg_df2.index\n",
    "agg_df2[\"first\"] = agg_df2.jan + agg_df2.feb + agg_df2.mar\n",
    "\n",
    "combined_2 = pd.merge(storesdf, agg_df2, how='inner', on=[\"store\"])\n",
    "combined_2.drop_duplicates(inplace=True)"
   ]
  },
  {
   "cell_type": "code",
   "execution_count": 133,
   "metadata": {
    "collapsed": false
   },
   "outputs": [
    {
     "data": {
      "text/plain": [
       "(1378, 115)"
      ]
     },
     "execution_count": 133,
     "metadata": {},
     "output_type": "execute_result"
    }
   ],
   "source": [
    "#one df with our whole dataset with the same features\n",
    "dfs3 = df.groupby([\"store\", \"month\"]).sales.sum()\n",
    "df3 = pd.DataFrame(dfs3)\n",
    "df3 = df3.unstack(level=-1)\n",
    "#volume sold\n",
    "dfv3 = pd.DataFrame(df.groupby(\"store\").volume_sold.mean())\n",
    "#total sales per store\n",
    "dft3 = pd.DataFrame(df.groupby(\"store\").sales.sum())\n",
    "#total number of bottles sold\n",
    "dfb3 = pd.DataFrame(df.groupby(\"store\").bottles_sold.mean())\n",
    "\n",
    "#concatenate\n",
    "agg_df3 = pd.concat([df3,dfv3,dft3,dfb3], axis=1)\n",
    "agg_df3.fillna(value=0, inplace=True)\n",
    "\n",
    "agg_df3.columns = filcols\n",
    "agg_df3[\"store\"] = agg_df3.index\n",
    "agg_df3[\"first\"] = agg_df3.jan + agg_df3.feb + agg_df3.mar\n",
    "\n",
    "combined_3 = pd.merge(storesdf, agg_df3, how='inner', on=[\"store\"])\n",
    "combined_3.drop_duplicates(inplace=True)"
   ]
  },
  {
   "cell_type": "code",
   "execution_count": 134,
   "metadata": {
    "collapsed": false
   },
   "outputs": [],
   "source": [
    "months = [\"jan\", \"feb\", \"mar\",\"apr\",\"may\",\"jun\",\"jul\",\"aug\",\"sep\",\"oct\",\"nov\",\"dec\"]\n",
    "\n",
    "combined_2.drop(months[0:3],axis=1, inplace=True)\n",
    "combined.drop(months,axis=1, inplace=True)\n",
    "combined_3.drop(months,axis=1, inplace=True)"
   ]
  },
  {
   "cell_type": "markdown",
   "metadata": {},
   "source": [
    "# Build your models\n",
    "\n",
    "Using scikit-learn or statsmodels, build the necessary models for your scenario. Evaluate model fit."
   ]
  },
  {
   "cell_type": "code",
   "execution_count": 136,
   "metadata": {
    "collapsed": true
   },
   "outputs": [],
   "source": [
    "from sklearn import datasets, linear_model,preprocessing\n",
    "from sklearn.cross_validation import train_test_split\n",
    "from sklearn.metrics import classification_report, r2_score, mean_squared_error\n",
    "from itertools import combinations\n",
    "from sklearn.grid_search import GridSearchCV,RandomizedSearchCV\n",
    "import statsmodels.api as sm\n",
    "from statsmodels.regression.quantile_regression import QuantReg\n",
    "from scipy.stats import uniform as sp_rand\n",
    "from sklearn.linear_model import LassoCV"
   ]
  },
  {
   "cell_type": "code",
   "execution_count": 137,
   "metadata": {
    "collapsed": true
   },
   "outputs": [],
   "source": [
    "def runLinear():\n",
    "    scores = {}\n",
    "    xs = preprocessing.scale(xs)\n",
    "    ys = preprocessing.scale(ys)\n",
    "    \n",
    "    X_test = preprocessing.scale(X_test)\n",
    "    y_test = preprocessing.scale(y_test)\n",
    "    \n",
    "    lr = linear_model.LinearRegression()\n",
    "    model = lr.fit(xs, ys)\n",
    "    predictions = model.predict(X_test)\n",
    "\n",
    "    lin = [np.sqrt(mean_squared_error(y_test, predictions)), r2_score(y_test, predictions)]\n",
    "    scores[\"linear\"] = lin\n",
    "\n",
    "    ridgeregcv = linear_model.RidgeCV(alphas=[0.1, 1, .001, .01, 10]) # Try different alphas\n",
    "    model = ridgeregcv.fit(xs, ys)\n",
    "    predictions = ridgeregcv.predict(X_test)\n",
    "    ridge = [np.sqrt(mean_squared_error(y_test, predictions)), r2_score(y_test, predictions)]\n",
    "    scores[\"ridge\"] = ridge\n",
    "\n",
    "    \n",
    "    lassoregcv = linear_model.LassoCV(alphas=[0.1, 1, .001, .01, 10])\n",
    "    lassoregcv.fit(xs, ys)\n",
    "    predictions = lassoregcv.predict(X_test)\n",
    "    lasso = [np.sqrt(mean_squared_error(y_test, predictions)), r2_score(y_test, predictions)]\n",
    "    scores[\"lasso\"] = lasso\n",
    "    \n",
    "    return scores"
   ]
  },
  {
   "cell_type": "code",
   "execution_count": 138,
   "metadata": {
    "collapsed": false
   },
   "outputs": [
    {
     "name": "stderr",
     "output_type": "stream",
     "text": [
      "/Users/Sheena/anaconda2/lib/python2.7/site-packages/ipykernel/__main__.py:1: FutureWarning: using '-' to provide set differences with Indexes is deprecated, use .difference()\n",
      "  if __name__ == '__main__':\n",
      "/Users/Sheena/anaconda2/lib/python2.7/site-packages/ipykernel/__main__.py:2: FutureWarning: using '-' to provide set differences with Indexes is deprecated, use .difference()\n",
      "  from ipykernel import kernelapp as app\n",
      "/Users/Sheena/anaconda2/lib/python2.7/site-packages/ipykernel/__main__.py:3: FutureWarning: using '-' to provide set differences with Indexes is deprecated, use .difference()\n",
      "  app.launch_new_instance()\n"
     ]
    }
   ],
   "source": [
    "all_columns = \"\" + \",\" .join(combined.columns - [\"total\"]) + \"\"\n",
    "notsold_cols =\"\" + \",\" .join(combined.columns - [\"total\",\"bottles_sold\",\"vol_sold\"]) + \"\"\n",
    "wostore_cols =\"\" + \",\" .join(combined.columns - [\"total\",\"bottles_sold\",\"vol_sold\",\"store\"]) + \"\"\n",
    "\n",
    "all_columns = all_columns.split(\",\")\n",
    "notsold_cols = notsold_cols.split(\",\")\n",
    "wostore_cols = wostore_cols.split(\",\")"
   ]
  },
  {
   "cell_type": "code",
   "execution_count": 139,
   "metadata": {
    "collapsed": false
   },
   "outputs": [
    {
     "name": "stdout",
     "output_type": "stream",
     "text": [
      "{'ridge': [0.85008500498144512, 0.27735548430569668], 'linear': [0.85080851428309279, 0.27612487202339664], 'lasso': [0.84729015289062615, 0.28209939681457952]}\n"
     ]
    }
   ],
   "source": [
    "#for all columns\n",
    "\n",
    "xs = combined[all_columns]\n",
    "ys = combined[\"total\"]\n",
    "\n",
    "X_test = combined_2[all_columns]\n",
    "y_test = combined_2[\"total\"]\n",
    "\n",
    "#returns {model: [rmse, r2]}\n",
    "scores = runLinear()\n",
    "print scores"
   ]
  },
  {
   "cell_type": "code",
   "execution_count": 140,
   "metadata": {
    "collapsed": false
   },
   "outputs": [
    {
     "name": "stdout",
     "output_type": "stream",
     "text": [
      "{'ridge': [0.047587002461048349, 0.99773547719677214], 'linear': [0.047586700694134024, 0.99773550591704685], 'lasso': [0.042281647589778919, 0.9982122622770937]}\n"
     ]
    }
   ],
   "source": [
    "#without bottles sold and bottles volume\n",
    "xs = combined[notsold_cols]\n",
    "ys = combined[\"total\"]\n",
    "\n",
    "X_test = combined_2[notsold_cols]\n",
    "y_test = combined_2[\"total\"]\n",
    "\n",
    "scores = runLinear()\n",
    "print scores"
   ]
  },
  {
   "cell_type": "code",
   "execution_count": 141,
   "metadata": {
    "collapsed": false
   },
   "outputs": [
    {
     "name": "stdout",
     "output_type": "stream",
     "text": [
      "{'ridge': [0.047554223853431277, 0.99773859579369772], 'linear': [0.047553932702080741, 0.99773862348456599], 'lasso': [0.042259271583170117, 0.99821415396525992]}\n"
     ]
    }
   ],
   "source": [
    "#without bottles sold and bottles volume and store\n",
    "xs = combined[wostore_cols]\n",
    "ys = combined[\"total\"]\n",
    "\n",
    "X_test = combined_2[wostore_cols]\n",
    "y_test = combined_2[\"total\"]\n",
    "\n",
    "scores = runLinear()\n",
    "print scores"
   ]
  },
  {
   "cell_type": "code",
   "execution_count": 142,
   "metadata": {
    "collapsed": false
   },
   "outputs": [
    {
     "name": "stdout",
     "output_type": "stream",
     "text": [
      "{'ridge': [0.022127631306819943, 0.99951036793274939], 'linear': [0.022126892538445915, 0.99951040062659202], 'lasso': [0.023046362401707481, 0.99946886518004918]}\n"
     ]
    }
   ],
   "source": [
    "#just the first qtr total sales and the store\n",
    "xs = combined[[\"first\",\"store\"]]\n",
    "ys = combined[\"total\"]\n",
    "\n",
    "X_test = combined_2[[\"first\",\"store\"]]\n",
    "y_test = combined_2[\"total\"]\n",
    "\n",
    "scores = runLinear()\n",
    "print scores"
   ]
  },
  {
   "cell_type": "code",
   "execution_count": 143,
   "metadata": {
    "collapsed": false
   },
   "outputs": [
    {
     "name": "stdout",
     "output_type": "stream",
     "text": [
      "{'ridge': [0.92706420298226155, 0.14055196354886446], 'linear': [0.92706422334796446, 0.14055192578823583], 'lasso': [0.93338461910957637, 0.1287931528096713]}\n"
     ]
    }
   ],
   "source": [
    "#just store and the county\n",
    "stdum = filter(lambda x: x!=\"Polk\", dummies)\n",
    "stdum.append(\"store\")\n",
    "\n",
    "xs = combined[stdum]\n",
    "ys = combined[\"total\"]\n",
    "\n",
    "X_test = combined_2[stdum]\n",
    "y_test = combined_2[\"total\"]\n",
    "\n",
    "scores = runLinear()\n",
    "print scores"
   ]
  },
  {
   "cell_type": "code",
   "execution_count": 175,
   "metadata": {
    "collapsed": false,
    "scrolled": true
   },
   "outputs": [
    {
     "name": "stdout",
     "output_type": "stream",
     "text": [
      "r2: -6.80918188055e+22\n",
      "rmse : 0.208545338452\n"
     ]
    }
   ],
   "source": [
    "#now that we found the \"right\" features, let's try gridsearch to see what parameters to use for our whole dataset\n",
    "X = combined_3[wostore_cols]\n",
    "y = combined_3[\"total\"]\n",
    "\n",
    "X = preprocessing.scale(X)\n",
    "y = preprocessing.scale(y)\n",
    "\n",
    "X_train, X_test, y_train, y_test = train_test_split(X, y, random_state=1)\n",
    "\n",
    "lr = linear_model.LinearRegression()\n",
    "\n",
    "parameters = {'fit_intercept':[True,False], 'normalize':[True,False], 'copy_X':[True, False]}\n",
    "grid = GridSearchCV(lr,parameters)\n",
    "gridmod = grid.fit(X_train, y_train)\n",
    "predictions = grid.predict(X_test)\n",
    "\n",
    "print \"r2: %s\" %grid.best_score_\n",
    "print \"rmse : %s\" % np.sqrt(mean_squared_error(y_test, predictions))\n"
   ]
  },
  {
   "cell_type": "code",
   "execution_count": 176,
   "metadata": {
    "collapsed": false
   },
   "outputs": [
    {
     "name": "stdout",
     "output_type": "stream",
     "text": [
      "RMSE: 0.158806577293\n",
      "r2: 0.943623190362\n"
     ]
    }
   ],
   "source": [
    "ridgeregcv = linear_model.RidgeCV(alphas=[0.1, 1, .001, .01, 10]) # Try different alphas\n",
    "model = ridgeregcv.fit(X_train, y_train)\n",
    "predictions = ridgeregcv.predict(X_test)\n",
    "\n",
    "print \"RMSE: %s\" %np.sqrt(mean_squared_error(y_test, predictions))\n",
    "print \"r2: %s\" %r2_score(y_test, predictions)"
   ]
  },
  {
   "cell_type": "markdown",
   "metadata": {},
   "source": [
    "## Plot your results\n",
    "\n",
    "Again make sure that you record any valuable information. For example, in the tax scenario, did you find the sales from the first three months of the year to be a good predictor of the total sales for the year? Plot the predictions versus the true values and discuss the successes and limitations of your models"
   ]
  },
  {
   "cell_type": "code",
   "execution_count": 177,
   "metadata": {
    "collapsed": false
   },
   "outputs": [],
   "source": [
    "X = combined_3[wostore_cols]\n",
    "y = combined_3[\"total\"]\n",
    "\n",
    "X_train, X_test, y_train, y_test = train_test_split(X, y, random_state=1)\n",
    "\n",
    "lr = linear_model.LinearRegression()\n",
    "\n",
    "parameters = {'fit_intercept':[True,False], 'normalize':[True,False], 'copy_X':[True, False]}\n",
    "grid = GridSearchCV(lr,parameters)\n",
    "gridmod = grid.fit(X_train, y_train)\n",
    "predictions = grid.predict(X_test)"
   ]
  },
  {
   "cell_type": "code",
   "execution_count": 178,
   "metadata": {
    "collapsed": false
   },
   "outputs": [
    {
     "data": {
      "text/plain": [
       "<matplotlib.text.Text at 0x14e583850>"
      ]
     },
     "execution_count": 178,
     "metadata": {},
     "output_type": "execute_result"
    },
    {
     "data": {
      "image/png": "[encoded data removed]",
      "text/plain": [
       "<matplotlib.figure.Figure at 0x1311b40d0>"
      ]
     },
     "metadata": {},
     "output_type": "display_data"
    }
   ],
   "source": [
    "plt.scatter(y_test, predictions)\n",
    "plt.ylabel(\"actual total\")\n",
    "plt.xlabel(\"predicted total\")"
   ]
  },
  {
   "cell_type": "code",
   "execution_count": 179,
   "metadata": {
    "collapsed": false
   },
   "outputs": [
    {
     "name": "stdout",
     "output_type": "stream",
     "text": [
      "RMSE: 9711.05747829\n",
      "r2: 0.944625974957\n"
     ]
    }
   ],
   "source": [
    "ridgeregcv = linear_model.RidgeCV(alphas=[0.1, 1, .001, .01, 10]) # Try different alphas\n",
    "model = ridgeregcv.fit(X_train, y_train)\n",
    "predictions = ridgeregcv.predict(X_test)\n",
    "\n",
    "print \"RMSE: %s\" %np.sqrt(mean_squared_error(y_test, predictions))\n",
    "print \"r2: %s\" %r2_score(y_test, predictions)"
   ]
  },
  {
   "cell_type": "code",
   "execution_count": 180,
   "metadata": {
    "collapsed": false
   },
   "outputs": [
    {
     "data": {
      "text/plain": [
       "<matplotlib.text.Text at 0x13e714e90>"
      ]
     },
     "execution_count": 180,
     "metadata": {},
     "output_type": "execute_result"
    },
    {
     "data": {
      "image/png": "[encoded data removed]",
      "text/plain": [
       "<matplotlib.figure.Figure at 0x14aeddc90>"
      ]
     },
     "metadata": {},
     "output_type": "display_data"
    }
   ],
   "source": [
    "plt.scatter(y_test, predictions)\n",
    "plt.ylabel(\"actual total\")\n",
    "plt.xlabel(\"predicted total\")"
   ]
  },
  {
   "cell_type": "markdown",
   "metadata": {},
   "source": [
    "# Present the Results\n",
    "\n",
    "Present your conclusions and results. If you have more than one interesting model feel free to include more than one along with a discussion. Use your work in this notebook to prepare your write-up."
   ]
  },
  {
   "cell_type": "markdown",
   "metadata": {
    "collapsed": true
   },
   "source": []
  },
  {
   "cell_type": "code",
   "execution_count": 181,
   "metadata": {
    "collapsed": false
   },
   "outputs": [
    {
     "name": "stdout",
     "output_type": "stream",
     "text": [
      "r2: 0.982310914375\n",
      "rmse : 28299556764.0\n",
      "RMSE: 9711.05747829\n",
      "r2: 0.944625974957\n"
     ]
    }
   ],
   "source": [
    "#####the model that had the best linear score without regularization before testing on whole data####\n",
    "X = combined_3[wostore_cols]\n",
    "y = combined_3[\"total\"]\n",
    "\n",
    "X_train, X_test, y_train, y_test = train_test_split(X, y, random_state=1)\n",
    "\n",
    "lr = linear_model.LinearRegression()\n",
    "\n",
    "parameters = {'fit_intercept':[True,False], 'normalize':[True,False], 'copy_X':[True, False]}\n",
    "grid = GridSearchCV(lr,parameters)\n",
    "gridmod = grid.fit(X_train, y_train)\n",
    "predictions = grid.predict(X_test)\n",
    "\n",
    "print \"r2: %s\" %grid.best_score_\n",
    "print \"rmse : %s\" % np.sqrt(mean_squared_error(y_test, predictions))\n",
    "\n",
    "\n",
    "####The model with the best score overall########\n",
    "\n",
    "ridgeregcv = linear_model.RidgeCV(alphas=[0.1, 1, .001, .01, 10]) # Try different alphas\n",
    "model = ridgeregcv.fit(X_train, y_train)\n",
    "predictions = ridgeregcv.predict(X_test)\n",
    "\n",
    "print \"RMSE: %s\" %np.sqrt(mean_squared_error(y_test, predictions))\n",
    "print \"r2: %s\" %r2_score(y_test, predictions)\n",
    "\n",
    "\n"
   ]
  }
 ],
 "metadata": {
  "anaconda-cloud": {},
  "kernelspec": {
   "display_name": "Python 2",
   "language": "python",
   "name": "python2"
  },
  "language_info": {
   "codemirror_mode": {
    "name": "ipython",
    "version": 2
   },
   "file_extension": ".py",
   "mimetype": "text/x-python",
   "name": "python",
   "nbconvert_exporter": "python",
   "pygments_lexer": "ipython2",
   "version": "2.7.12"
  }
 },
 "nbformat": 4,
 "nbformat_minor": 0
}
